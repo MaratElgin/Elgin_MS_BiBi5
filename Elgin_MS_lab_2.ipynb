{
 "cells": [
  {
   "cell_type": "code",
   "execution_count": 2,
   "id": "3cc66514",
   "metadata": {
    "scrolled": false
   },
   "outputs": [
    {
     "ename": "SyntaxError",
     "evalue": "invalid syntax (3908272506.py, line 4)",
     "output_type": "error",
     "traceback": [
      "\u001b[1;36m  File \u001b[1;32m\"C:\\Users\\User\\AppData\\Local\\Temp\\ipykernel_16032\\3908272506.py\"\u001b[1;36m, line \u001b[1;32m4\u001b[0m\n\u001b[1;33m    pip install pandas==2.3.3\u001b[0m\n\u001b[1;37m        ^\u001b[0m\n\u001b[1;31mSyntaxError\u001b[0m\u001b[1;31m:\u001b[0m invalid syntax\n"
     ]
    }
   ],
   "source": [
    "# Elgin_MS_lab_2.py\n",
    "\n",
    "import pandas as pd\n",
    "\n",
    "# Загрузка данных из CSV-файла. Пробуем разные разделители.\n",
    "try:\n",
    "    df = pd.read_csv(\"/content/DB_3.csv\", sep='\\t')\n",
    "except Exception as e:\n",
    "    print(f\"Ошибка при загрузке с разделителем '\\t': {e}\")\n",
    "    try:\n",
    "        df = pd.read_csv(\"/content/DB_3.csv\", sep=',')\n",
    "    except Exception as e:\n",
    "        print(f\"Ошибка при загрузке с разделителем ',': {e}\")\n",
    "        # Если ни один из стандартных разделителей не подошел, можно попробовать другие или вывести ошибку.\n",
    "        # В данном случае просто выводим ошибку и завершаем задачу с ошибкой.\n",
    "        df = None\n",
    "\n",
    "if df is not None:\n",
    "    # Выводим первые строки DataFrame для проверки успешной загрузки\n",
    "    display(df.head())\n",
    "else:\n",
    "    print(\"Не удалось загрузить данные с использованием известных разделителей.\")\n"
   ]
  },
  {
   "cell_type": "code",
   "execution_count": 1,
   "id": "277b36ae",
   "metadata": {
    "scrolled": true
   },
   "outputs": [
    {
     "ename": "NameError",
     "evalue": "name 'pd' is not defined",
     "output_type": "error",
     "traceback": [
      "\u001b[1;31m---------------------------------------------------------------------------\u001b[0m",
      "\u001b[1;31mNameError\u001b[0m                                 Traceback (most recent call last)",
      "\u001b[1;32m~\\AppData\\Local\\Temp\\ipykernel_16032\\4007109061.py\u001b[0m in \u001b[0;36m<module>\u001b[1;34m\u001b[0m\n\u001b[1;32m----> 1\u001b[1;33m \u001b[0mdf\u001b[0m \u001b[1;33m=\u001b[0m \u001b[0mpd\u001b[0m\u001b[1;33m.\u001b[0m\u001b[0mread_csv\u001b[0m\u001b[1;33m(\u001b[0m\u001b[0mpath\u001b[0m\u001b[1;33m,\u001b[0m \u001b[0msep\u001b[0m\u001b[1;33m=\u001b[0m\u001b[1;32mNone\u001b[0m\u001b[1;33m,\u001b[0m \u001b[0mengine\u001b[0m\u001b[1;33m=\u001b[0m\u001b[1;34m\"python\"\u001b[0m\u001b[1;33m)\u001b[0m\u001b[1;33m\u001b[0m\u001b[1;33m\u001b[0m\u001b[0m\n\u001b[0m\u001b[0;32m      2\u001b[0m \u001b[0mprint\u001b[0m\u001b[1;33m(\u001b[0m\u001b[1;34m\"Размеры исходного датасета:\"\u001b[0m\u001b[1;33m,\u001b[0m \u001b[0mdf\u001b[0m\u001b[1;33m.\u001b[0m\u001b[0mshape\u001b[0m\u001b[1;33m)\u001b[0m\u001b[1;33m\u001b[0m\u001b[1;33m\u001b[0m\u001b[0m\n\u001b[0;32m      3\u001b[0m \u001b[0mdf\u001b[0m\u001b[1;33m.\u001b[0m\u001b[0mhead\u001b[0m\u001b[1;33m(\u001b[0m\u001b[1;33m)\u001b[0m\u001b[1;33m\u001b[0m\u001b[1;33m\u001b[0m\u001b[0m\n",
      "\u001b[1;31mNameError\u001b[0m: name 'pd' is not defined"
     ]
    }
   ],
   "source": [
    "# Выводим информацию о DataFrame, включая типы данных и количество непропущенных значений в каждом столбце\n",
    "display(df.info())\n",
    "\n",
    "# Генерируем описательную статистику для числовых столбцов\n",
    "display(df.describe())\n",
    "\n",
    "# Удаляем столбец 'Unnamed: 15', так как он не содержит полезной информации.\n",
    "df = df.drop('Unnamed: 15', axis=1)"
   ]
  },
  {
   "cell_type": "code",
   "execution_count": 3,
   "id": "c0be9810",
   "metadata": {},
   "outputs": [],
   "source": [
    "# Переименовываем столбцы, чтобы удалить лишние символы табуляции \\t из названий.\n",
    "df.columns = df.columns.str.replace('\\t', '')\n",
    "\n",
    "# Проверяем изменения\n",
    "display(df.head())"
   ]
  },
  {
   "cell_type": "code",
   "execution_count": 4,
   "id": "2f4d3fb4",
   "metadata": {},
   "outputs": [
    {
     "ename": "NameError",
     "evalue": "name 'df' is not defined",
     "output_type": "error",
     "traceback": [
      "\u001b[1;31m---------------------------------------------------------------------------\u001b[0m",
      "\u001b[1;31mNameError\u001b[0m                                 Traceback (most recent call last)",
      "\u001b[1;32m~\\AppData\\Local\\Temp\\ipykernel_16032\\3279877419.py\u001b[0m in \u001b[0;36m<module>\u001b[1;34m\u001b[0m\n\u001b[1;32m----> 1\u001b[1;33m \u001b[0mprint\u001b[0m\u001b[1;33m(\u001b[0m\u001b[1;34m\"Столбцы:\"\u001b[0m\u001b[1;33m,\u001b[0m \u001b[0mlist\u001b[0m\u001b[1;33m(\u001b[0m\u001b[0mdf\u001b[0m\u001b[1;33m.\u001b[0m\u001b[0mcolumns\u001b[0m\u001b[1;33m)\u001b[0m\u001b[1;33m)\u001b[0m\u001b[1;33m\u001b[0m\u001b[1;33m\u001b[0m\u001b[0m\n\u001b[0m\u001b[0;32m      2\u001b[0m \u001b[0mprint\u001b[0m\u001b[1;33m(\u001b[0m\u001b[1;34m\"\\nТипы данных:\"\u001b[0m\u001b[1;33m)\u001b[0m\u001b[1;33m\u001b[0m\u001b[1;33m\u001b[0m\u001b[0m\n\u001b[0;32m      3\u001b[0m \u001b[0mprint\u001b[0m\u001b[1;33m(\u001b[0m\u001b[0mdf\u001b[0m\u001b[1;33m.\u001b[0m\u001b[0mdtypes\u001b[0m\u001b[1;33m)\u001b[0m\u001b[1;33m\u001b[0m\u001b[1;33m\u001b[0m\u001b[0m\n\u001b[0;32m      4\u001b[0m \u001b[0mprint\u001b[0m\u001b[1;33m(\u001b[0m\u001b[1;34m\"\\nNaN по столбцам:\"\u001b[0m\u001b[1;33m)\u001b[0m\u001b[1;33m\u001b[0m\u001b[1;33m\u001b[0m\u001b[0m\n\u001b[0;32m      5\u001b[0m \u001b[0mprint\u001b[0m\u001b[1;33m(\u001b[0m\u001b[0mdf\u001b[0m\u001b[1;33m.\u001b[0m\u001b[0misna\u001b[0m\u001b[1;33m(\u001b[0m\u001b[1;33m)\u001b[0m\u001b[1;33m.\u001b[0m\u001b[0msum\u001b[0m\u001b[1;33m(\u001b[0m\u001b[1;33m)\u001b[0m\u001b[1;33m)\u001b[0m\u001b[1;33m\u001b[0m\u001b[1;33m\u001b[0m\u001b[0m\n",
      "\u001b[1;31mNameError\u001b[0m: name 'df' is not defined"
     ]
    }
   ],
   "source": [
    "# Обрабатываем пропущенные значения.\n",
    "# Для категориальных признаков используем моду.\n",
    "for col in ['gender', 'occupation', 'work_mode']:\n",
    "    if df[col].isnull().any():\n",
    "        mode_value = df[col].mode()[0]\n",
    "        df[col].fillna(mode_value, inplace=True)\n",
    "        print(f\"Пропущенные значения в столбце '{col}' заполнены модой: {mode_value}\")\n",
    "\n",
    "# Для числовых признаков используем медиану.\n",
    "for col in ['screen_time_hours', 'work_screen_hours', 'leisure_screen_hours', 'sleep_quality_1_5', 'stress_level_0_10', 'mental_wellness_index_0_100']:\n",
    "    if df[col].isnull().any():\n",
    "        median_value = df[col].median()\n",
    "        df[col].fillna(median_value, inplace=True)\n",
    "        print(f\"Пропущенные значения в столбце '{col}' заполнены медианой: {median_value}\")\n",
    "\n",
    "# Проверяем наличие пропущенных значений после импутации\n",
    "display(df.isnull().sum())"
   ]
  },
  {
   "cell_type": "code",
   "execution_count": 5,
   "id": "840ff8b8",
   "metadata": {},
   "outputs": [
    {
     "ename": "SyntaxError",
     "evalue": "EOL while scanning string literal (2921543715.py, line 3)",
     "output_type": "error",
     "traceback": [
      "\u001b[1;36m  File \u001b[1;32m\"C:\\Users\\User\\AppData\\Local\\Temp\\ipykernel_16032\\2921543715.py\"\u001b[1;36m, line \u001b[1;32m3\u001b[0m\n\u001b[1;33m    print(f\"Удалено дубликатов: {before - len(df)})\u001b[0m\n\u001b[1;37m                                                   ^\u001b[0m\n\u001b[1;31mSyntaxError\u001b[0m\u001b[1;31m:\u001b[0m EOL while scanning string literal\n"
     ]
    }
   ],
   "source": [
    "# Преобразуем категориальные признаки в числовой формат.\n",
    "# 'gender' - бинарный признак, используем Label Encoding.\n",
    "# Проводим трансформацию строковых значений в целочисленные, так как алгоритмы МО могут работать только с численными данными.\n",
    "# 0 – Male, 1 – Female. Данные сохраняются в одном столбце, так как они принадлежат к бинарному типу.\n",
    "df['gender'] = df['gender'].map({'Male': 0, 'Female': 1})\n",
    "\n",
    "# 'occupation' и 'work_mode' - категориальные признаки с несколькими уникальными значениями, используем One-Hot Encoding.\n",
    "# Создаем новые бинарные столбцы для каждой категории в этих признаках.\n",
    "df = pd.get_dummies(df, columns=['occupation', 'work_mode'], drop_first=True)\n",
    "\n",
    "# Проверяем изменения\n",
    "display(df.head())\n",
    "display(df.info())\n"
   ]
  },
  {
   "cell_type": "code",
   "execution_count": null,
   "id": "e2147c1f",
   "metadata": {},
   "outputs": [],
   "source": [
    "# Переименовываем столбцы, чтобы удалить лишние символы табуляции \\t из названий.\n",
    "# Это делается для удобства доступа к столбцам и улучшения читаемости кода.\n",
    "df.columns = df.columns.str.replace('\\t', '')"
   ]
  }
 ],
 "metadata": {
  "kernelspec": {
   "display_name": "Python 3 (ipykernel)",
   "language": "python",
   "name": "python3"
  },
  "language_info": {
   "codemirror_mode": {
    "name": "ipython",
    "version": 3
   },
   "file_extension": ".py",
   "mimetype": "text/x-python",
   "name": "python",
   "nbconvert_exporter": "python",
   "pygments_lexer": "ipython3",
   "version": "3.9.13"
  }
 },
 "nbformat": 4,
 "nbformat_minor": 5
}
